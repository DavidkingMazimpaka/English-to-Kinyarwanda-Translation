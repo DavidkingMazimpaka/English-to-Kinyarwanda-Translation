{
 "cells": [
  {
   "cell_type": "code",
   "execution_count": null,
   "metadata": {},
   "outputs": [],
   "source": [
    "import pandas as pd\n",
    "\n",
    "# Load datasets\n",
    "dataset1 = pd.read_csv('dataset1.tsv', sep='\\t')\n",
    "dataset2 = pd.read_csv('dataset2.tsv', sep='\\t')\n",
    "dataset3 = pd.read_csv('dataset3.tsv', sep='\\t')\n",
    "\n",
    "# Combine datasets\n",
    "combined_dataset = pd.concat([dataset1, dataset2, dataset3], ignore_index=True)\n",
    "\n",
    "# Remove duplicates\n",
    "combined_dataset.drop_duplicates(inplace=True)\n",
    "\n",
    "# Save the combined dataset as a TSV file\n",
    "combined_dataset.to_csv('combined_dataset.tsv', sep='\\t', index=False)"
   ]
  }
 ],
 "metadata": {
  "kernelspec": {
   "display_name": "env",
   "language": "python",
   "name": "python3"
  },
  "language_info": {
   "name": "python",
   "version": "3.11.0"
  }
 },
 "nbformat": 4,
 "nbformat_minor": 2
}
